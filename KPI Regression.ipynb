{
 "cells": [
  {
   "cell_type": "code",
   "execution_count": 1,
   "metadata": {},
   "outputs": [],
   "source": [
    "import numpy as np\n",
    "import pandas as pd\n",
    "import matplotlib.pyplot as plt\n",
    "import seaborn as sns\n",
    "import warnings\n",
    "warnings.filterwarnings('ignore')"
   ]
  },
  {
   "cell_type": "code",
   "execution_count": 2,
   "metadata": {},
   "outputs": [],
   "source": [
    "df = pd.read_csv(r'C:\\Users\\admin\\Downloads\\KPI_Exp.csv')"
   ]
  },
  {
   "cell_type": "code",
   "execution_count": 3,
   "metadata": {},
   "outputs": [
    {
     "data": {
      "text/html": [
       "<div>\n",
       "<style scoped>\n",
       "    .dataframe tbody tr th:only-of-type {\n",
       "        vertical-align: middle;\n",
       "    }\n",
       "\n",
       "    .dataframe tbody tr th {\n",
       "        vertical-align: top;\n",
       "    }\n",
       "\n",
       "    .dataframe thead th {\n",
       "        text-align: right;\n",
       "    }\n",
       "</style>\n",
       "<table border=\"1\" class=\"dataframe\">\n",
       "  <thead>\n",
       "    <tr style=\"text-align: right;\">\n",
       "      <th></th>\n",
       "      <th>Unnamed: 0</th>\n",
       "      <th>Date</th>\n",
       "      <th>Open</th>\n",
       "      <th>High</th>\n",
       "      <th>Low</th>\n",
       "      <th>Close</th>\n",
       "      <th>Volume</th>\n",
       "      <th>PDC</th>\n",
       "      <th>gap%</th>\n",
       "      <th>Day</th>\n",
       "      <th>Profit</th>\n",
       "    </tr>\n",
       "  </thead>\n",
       "  <tbody>\n",
       "    <tr>\n",
       "      <th>0</th>\n",
       "      <td>0</td>\n",
       "      <td>2019-02-15</td>\n",
       "      <td>10780.25</td>\n",
       "      <td>10785.75</td>\n",
       "      <td>10620.40</td>\n",
       "      <td>10724.40</td>\n",
       "      <td>521876968</td>\n",
       "      <td>NaN</td>\n",
       "      <td>NaN</td>\n",
       "      <td>Friday</td>\n",
       "      <td>NaN</td>\n",
       "    </tr>\n",
       "    <tr>\n",
       "      <th>1</th>\n",
       "      <td>1</td>\n",
       "      <td>2019-02-18</td>\n",
       "      <td>10738.65</td>\n",
       "      <td>10759.90</td>\n",
       "      <td>10628.40</td>\n",
       "      <td>10640.95</td>\n",
       "      <td>345440240</td>\n",
       "      <td>10724.40</td>\n",
       "      <td>0.132875</td>\n",
       "      <td>Monday</td>\n",
       "      <td>26810.0</td>\n",
       "    </tr>\n",
       "    <tr>\n",
       "      <th>2</th>\n",
       "      <td>2</td>\n",
       "      <td>2019-02-19</td>\n",
       "      <td>10636.70</td>\n",
       "      <td>10722.85</td>\n",
       "      <td>10585.65</td>\n",
       "      <td>10604.35</td>\n",
       "      <td>291507060</td>\n",
       "      <td>10640.95</td>\n",
       "      <td>-0.039940</td>\n",
       "      <td>Tuesday</td>\n",
       "      <td>7990.0</td>\n",
       "    </tr>\n",
       "    <tr>\n",
       "      <th>3</th>\n",
       "      <td>3</td>\n",
       "      <td>2019-02-20</td>\n",
       "      <td>10655.45</td>\n",
       "      <td>10752.70</td>\n",
       "      <td>10646.40</td>\n",
       "      <td>10735.45</td>\n",
       "      <td>289195306</td>\n",
       "      <td>10604.35</td>\n",
       "      <td>0.481878</td>\n",
       "      <td>Wednesday</td>\n",
       "      <td>-28320.0</td>\n",
       "    </tr>\n",
       "    <tr>\n",
       "      <th>4</th>\n",
       "      <td>4</td>\n",
       "      <td>2019-02-21</td>\n",
       "      <td>10744.10</td>\n",
       "      <td>10808.85</td>\n",
       "      <td>10721.50</td>\n",
       "      <td>10789.85</td>\n",
       "      <td>279584955</td>\n",
       "      <td>10735.45</td>\n",
       "      <td>0.080574</td>\n",
       "      <td>Thursday</td>\n",
       "      <td>52385.0</td>\n",
       "    </tr>\n",
       "  </tbody>\n",
       "</table>\n",
       "</div>"
      ],
      "text/plain": [
       "   Unnamed: 0        Date      Open      High       Low     Close     Volume  \\\n",
       "0           0  2019-02-15  10780.25  10785.75  10620.40  10724.40  521876968   \n",
       "1           1  2019-02-18  10738.65  10759.90  10628.40  10640.95  345440240   \n",
       "2           2  2019-02-19  10636.70  10722.85  10585.65  10604.35  291507060   \n",
       "3           3  2019-02-20  10655.45  10752.70  10646.40  10735.45  289195306   \n",
       "4           4  2019-02-21  10744.10  10808.85  10721.50  10789.85  279584955   \n",
       "\n",
       "        PDC      gap%        Day   Profit  \n",
       "0       NaN       NaN     Friday      NaN  \n",
       "1  10724.40  0.132875     Monday  26810.0  \n",
       "2  10640.95 -0.039940    Tuesday   7990.0  \n",
       "3  10604.35  0.481878  Wednesday -28320.0  \n",
       "4  10735.45  0.080574   Thursday  52385.0  "
      ]
     },
     "execution_count": 3,
     "metadata": {},
     "output_type": "execute_result"
    }
   ],
   "source": [
    "df.head()"
   ]
  },
  {
   "cell_type": "code",
   "execution_count": 4,
   "metadata": {},
   "outputs": [],
   "source": [
    "df = df.drop(['Unnamed: 0'],axis=1)"
   ]
  },
  {
   "cell_type": "code",
   "execution_count": 5,
   "metadata": {},
   "outputs": [
    {
     "data": {
      "text/html": [
       "<div>\n",
       "<style scoped>\n",
       "    .dataframe tbody tr th:only-of-type {\n",
       "        vertical-align: middle;\n",
       "    }\n",
       "\n",
       "    .dataframe tbody tr th {\n",
       "        vertical-align: top;\n",
       "    }\n",
       "\n",
       "    .dataframe thead th {\n",
       "        text-align: right;\n",
       "    }\n",
       "</style>\n",
       "<table border=\"1\" class=\"dataframe\">\n",
       "  <thead>\n",
       "    <tr style=\"text-align: right;\">\n",
       "      <th></th>\n",
       "      <th>Date</th>\n",
       "      <th>Open</th>\n",
       "      <th>High</th>\n",
       "      <th>Low</th>\n",
       "      <th>Close</th>\n",
       "      <th>Volume</th>\n",
       "      <th>PDC</th>\n",
       "      <th>gap%</th>\n",
       "      <th>Day</th>\n",
       "      <th>Profit</th>\n",
       "    </tr>\n",
       "  </thead>\n",
       "  <tbody>\n",
       "    <tr>\n",
       "      <th>0</th>\n",
       "      <td>2019-02-15</td>\n",
       "      <td>10780.25</td>\n",
       "      <td>10785.75</td>\n",
       "      <td>10620.40</td>\n",
       "      <td>10724.40</td>\n",
       "      <td>521876968</td>\n",
       "      <td>NaN</td>\n",
       "      <td>NaN</td>\n",
       "      <td>Friday</td>\n",
       "      <td>NaN</td>\n",
       "    </tr>\n",
       "    <tr>\n",
       "      <th>1</th>\n",
       "      <td>2019-02-18</td>\n",
       "      <td>10738.65</td>\n",
       "      <td>10759.90</td>\n",
       "      <td>10628.40</td>\n",
       "      <td>10640.95</td>\n",
       "      <td>345440240</td>\n",
       "      <td>10724.40</td>\n",
       "      <td>0.132875</td>\n",
       "      <td>Monday</td>\n",
       "      <td>26810.0</td>\n",
       "    </tr>\n",
       "    <tr>\n",
       "      <th>2</th>\n",
       "      <td>2019-02-19</td>\n",
       "      <td>10636.70</td>\n",
       "      <td>10722.85</td>\n",
       "      <td>10585.65</td>\n",
       "      <td>10604.35</td>\n",
       "      <td>291507060</td>\n",
       "      <td>10640.95</td>\n",
       "      <td>-0.039940</td>\n",
       "      <td>Tuesday</td>\n",
       "      <td>7990.0</td>\n",
       "    </tr>\n",
       "    <tr>\n",
       "      <th>3</th>\n",
       "      <td>2019-02-20</td>\n",
       "      <td>10655.45</td>\n",
       "      <td>10752.70</td>\n",
       "      <td>10646.40</td>\n",
       "      <td>10735.45</td>\n",
       "      <td>289195306</td>\n",
       "      <td>10604.35</td>\n",
       "      <td>0.481878</td>\n",
       "      <td>Wednesday</td>\n",
       "      <td>-28320.0</td>\n",
       "    </tr>\n",
       "    <tr>\n",
       "      <th>4</th>\n",
       "      <td>2019-02-21</td>\n",
       "      <td>10744.10</td>\n",
       "      <td>10808.85</td>\n",
       "      <td>10721.50</td>\n",
       "      <td>10789.85</td>\n",
       "      <td>279584955</td>\n",
       "      <td>10735.45</td>\n",
       "      <td>0.080574</td>\n",
       "      <td>Thursday</td>\n",
       "      <td>52385.0</td>\n",
       "    </tr>\n",
       "    <tr>\n",
       "      <th>...</th>\n",
       "      <td>...</td>\n",
       "      <td>...</td>\n",
       "      <td>...</td>\n",
       "      <td>...</td>\n",
       "      <td>...</td>\n",
       "      <td>...</td>\n",
       "      <td>...</td>\n",
       "      <td>...</td>\n",
       "      <td>...</td>\n",
       "      <td>...</td>\n",
       "    </tr>\n",
       "    <tr>\n",
       "      <th>790</th>\n",
       "      <td>2022-04-28</td>\n",
       "      <td>17189.50</td>\n",
       "      <td>17322.50</td>\n",
       "      <td>17071.05</td>\n",
       "      <td>17245.05</td>\n",
       "      <td>312914417</td>\n",
       "      <td>17038.40</td>\n",
       "      <td>0.886820</td>\n",
       "      <td>Thursday</td>\n",
       "      <td>-20875.0</td>\n",
       "    </tr>\n",
       "    <tr>\n",
       "      <th>791</th>\n",
       "      <td>2022-04-29</td>\n",
       "      <td>17329.25</td>\n",
       "      <td>17377.65</td>\n",
       "      <td>17053.25</td>\n",
       "      <td>17102.55</td>\n",
       "      <td>336243642</td>\n",
       "      <td>17245.05</td>\n",
       "      <td>0.488256</td>\n",
       "      <td>Friday</td>\n",
       "      <td>NaN</td>\n",
       "    </tr>\n",
       "    <tr>\n",
       "      <th>792</th>\n",
       "      <td>2022-05-02</td>\n",
       "      <td>16924.45</td>\n",
       "      <td>17092.25</td>\n",
       "      <td>16917.25</td>\n",
       "      <td>17069.10</td>\n",
       "      <td>278155513</td>\n",
       "      <td>17102.55</td>\n",
       "      <td>-1.041365</td>\n",
       "      <td>Monday</td>\n",
       "      <td>-13385.0</td>\n",
       "    </tr>\n",
       "    <tr>\n",
       "      <th>793</th>\n",
       "      <td>2022-05-04</td>\n",
       "      <td>17096.60</td>\n",
       "      <td>17132.85</td>\n",
       "      <td>16623.95</td>\n",
       "      <td>16677.60</td>\n",
       "      <td>310632799</td>\n",
       "      <td>17069.10</td>\n",
       "      <td>0.161110</td>\n",
       "      <td>Wednesday</td>\n",
       "      <td>74905.0</td>\n",
       "    </tr>\n",
       "    <tr>\n",
       "      <th>794</th>\n",
       "      <td>2022-05-05</td>\n",
       "      <td>16854.75</td>\n",
       "      <td>16945.70</td>\n",
       "      <td>16651.85</td>\n",
       "      <td>16682.65</td>\n",
       "      <td>265793403</td>\n",
       "      <td>16677.60</td>\n",
       "      <td>1.062203</td>\n",
       "      <td>Thursday</td>\n",
       "      <td>-37485.0</td>\n",
       "    </tr>\n",
       "  </tbody>\n",
       "</table>\n",
       "<p>795 rows × 10 columns</p>\n",
       "</div>"
      ],
      "text/plain": [
       "           Date      Open      High       Low     Close     Volume       PDC  \\\n",
       "0    2019-02-15  10780.25  10785.75  10620.40  10724.40  521876968       NaN   \n",
       "1    2019-02-18  10738.65  10759.90  10628.40  10640.95  345440240  10724.40   \n",
       "2    2019-02-19  10636.70  10722.85  10585.65  10604.35  291507060  10640.95   \n",
       "3    2019-02-20  10655.45  10752.70  10646.40  10735.45  289195306  10604.35   \n",
       "4    2019-02-21  10744.10  10808.85  10721.50  10789.85  279584955  10735.45   \n",
       "..          ...       ...       ...       ...       ...        ...       ...   \n",
       "790  2022-04-28  17189.50  17322.50  17071.05  17245.05  312914417  17038.40   \n",
       "791  2022-04-29  17329.25  17377.65  17053.25  17102.55  336243642  17245.05   \n",
       "792  2022-05-02  16924.45  17092.25  16917.25  17069.10  278155513  17102.55   \n",
       "793  2022-05-04  17096.60  17132.85  16623.95  16677.60  310632799  17069.10   \n",
       "794  2022-05-05  16854.75  16945.70  16651.85  16682.65  265793403  16677.60   \n",
       "\n",
       "         gap%        Day   Profit  \n",
       "0         NaN     Friday      NaN  \n",
       "1    0.132875     Monday  26810.0  \n",
       "2   -0.039940    Tuesday   7990.0  \n",
       "3    0.481878  Wednesday -28320.0  \n",
       "4    0.080574   Thursday  52385.0  \n",
       "..        ...        ...      ...  \n",
       "790  0.886820   Thursday -20875.0  \n",
       "791  0.488256     Friday      NaN  \n",
       "792 -1.041365     Monday -13385.0  \n",
       "793  0.161110  Wednesday  74905.0  \n",
       "794  1.062203   Thursday -37485.0  \n",
       "\n",
       "[795 rows x 10 columns]"
      ]
     },
     "execution_count": 5,
     "metadata": {},
     "output_type": "execute_result"
    }
   ],
   "source": [
    "df"
   ]
  },
  {
   "cell_type": "code",
   "execution_count": 6,
   "metadata": {},
   "outputs": [],
   "source": [
    "df['Profit']= df['Profit'].fillna(0)\n",
    "df['gap%']=df['gap%'].fillna(0)\n",
    "df['PDC']=df['PDC'].fillna(0)\n",
    "df = df.drop(['Date'],axis=1)"
   ]
  },
  {
   "cell_type": "code",
   "execution_count": 7,
   "metadata": {},
   "outputs": [],
   "source": [
    "from sklearn.preprocessing import LabelEncoder\n",
    "lb = LabelEncoder()\n",
    "df['Day'] = lb.fit_transform(df['Day'])"
   ]
  },
  {
   "cell_type": "code",
   "execution_count": 8,
   "metadata": {},
   "outputs": [
    {
     "data": {
      "text/html": [
       "<div>\n",
       "<style scoped>\n",
       "    .dataframe tbody tr th:only-of-type {\n",
       "        vertical-align: middle;\n",
       "    }\n",
       "\n",
       "    .dataframe tbody tr th {\n",
       "        vertical-align: top;\n",
       "    }\n",
       "\n",
       "    .dataframe thead th {\n",
       "        text-align: right;\n",
       "    }\n",
       "</style>\n",
       "<table border=\"1\" class=\"dataframe\">\n",
       "  <thead>\n",
       "    <tr style=\"text-align: right;\">\n",
       "      <th></th>\n",
       "      <th>Open</th>\n",
       "      <th>High</th>\n",
       "      <th>Low</th>\n",
       "      <th>Close</th>\n",
       "      <th>Volume</th>\n",
       "      <th>PDC</th>\n",
       "      <th>gap%</th>\n",
       "      <th>Day</th>\n",
       "      <th>Profit</th>\n",
       "    </tr>\n",
       "  </thead>\n",
       "  <tbody>\n",
       "    <tr>\n",
       "      <th>0</th>\n",
       "      <td>10780.25</td>\n",
       "      <td>10785.75</td>\n",
       "      <td>10620.40</td>\n",
       "      <td>10724.40</td>\n",
       "      <td>521876968</td>\n",
       "      <td>0.00</td>\n",
       "      <td>0.000000</td>\n",
       "      <td>0</td>\n",
       "      <td>0.0</td>\n",
       "    </tr>\n",
       "    <tr>\n",
       "      <th>1</th>\n",
       "      <td>10738.65</td>\n",
       "      <td>10759.90</td>\n",
       "      <td>10628.40</td>\n",
       "      <td>10640.95</td>\n",
       "      <td>345440240</td>\n",
       "      <td>10724.40</td>\n",
       "      <td>0.132875</td>\n",
       "      <td>1</td>\n",
       "      <td>26810.0</td>\n",
       "    </tr>\n",
       "    <tr>\n",
       "      <th>2</th>\n",
       "      <td>10636.70</td>\n",
       "      <td>10722.85</td>\n",
       "      <td>10585.65</td>\n",
       "      <td>10604.35</td>\n",
       "      <td>291507060</td>\n",
       "      <td>10640.95</td>\n",
       "      <td>-0.039940</td>\n",
       "      <td>5</td>\n",
       "      <td>7990.0</td>\n",
       "    </tr>\n",
       "    <tr>\n",
       "      <th>3</th>\n",
       "      <td>10655.45</td>\n",
       "      <td>10752.70</td>\n",
       "      <td>10646.40</td>\n",
       "      <td>10735.45</td>\n",
       "      <td>289195306</td>\n",
       "      <td>10604.35</td>\n",
       "      <td>0.481878</td>\n",
       "      <td>6</td>\n",
       "      <td>-28320.0</td>\n",
       "    </tr>\n",
       "    <tr>\n",
       "      <th>4</th>\n",
       "      <td>10744.10</td>\n",
       "      <td>10808.85</td>\n",
       "      <td>10721.50</td>\n",
       "      <td>10789.85</td>\n",
       "      <td>279584955</td>\n",
       "      <td>10735.45</td>\n",
       "      <td>0.080574</td>\n",
       "      <td>4</td>\n",
       "      <td>52385.0</td>\n",
       "    </tr>\n",
       "    <tr>\n",
       "      <th>...</th>\n",
       "      <td>...</td>\n",
       "      <td>...</td>\n",
       "      <td>...</td>\n",
       "      <td>...</td>\n",
       "      <td>...</td>\n",
       "      <td>...</td>\n",
       "      <td>...</td>\n",
       "      <td>...</td>\n",
       "      <td>...</td>\n",
       "    </tr>\n",
       "    <tr>\n",
       "      <th>790</th>\n",
       "      <td>17189.50</td>\n",
       "      <td>17322.50</td>\n",
       "      <td>17071.05</td>\n",
       "      <td>17245.05</td>\n",
       "      <td>312914417</td>\n",
       "      <td>17038.40</td>\n",
       "      <td>0.886820</td>\n",
       "      <td>4</td>\n",
       "      <td>-20875.0</td>\n",
       "    </tr>\n",
       "    <tr>\n",
       "      <th>791</th>\n",
       "      <td>17329.25</td>\n",
       "      <td>17377.65</td>\n",
       "      <td>17053.25</td>\n",
       "      <td>17102.55</td>\n",
       "      <td>336243642</td>\n",
       "      <td>17245.05</td>\n",
       "      <td>0.488256</td>\n",
       "      <td>0</td>\n",
       "      <td>0.0</td>\n",
       "    </tr>\n",
       "    <tr>\n",
       "      <th>792</th>\n",
       "      <td>16924.45</td>\n",
       "      <td>17092.25</td>\n",
       "      <td>16917.25</td>\n",
       "      <td>17069.10</td>\n",
       "      <td>278155513</td>\n",
       "      <td>17102.55</td>\n",
       "      <td>-1.041365</td>\n",
       "      <td>1</td>\n",
       "      <td>-13385.0</td>\n",
       "    </tr>\n",
       "    <tr>\n",
       "      <th>793</th>\n",
       "      <td>17096.60</td>\n",
       "      <td>17132.85</td>\n",
       "      <td>16623.95</td>\n",
       "      <td>16677.60</td>\n",
       "      <td>310632799</td>\n",
       "      <td>17069.10</td>\n",
       "      <td>0.161110</td>\n",
       "      <td>6</td>\n",
       "      <td>74905.0</td>\n",
       "    </tr>\n",
       "    <tr>\n",
       "      <th>794</th>\n",
       "      <td>16854.75</td>\n",
       "      <td>16945.70</td>\n",
       "      <td>16651.85</td>\n",
       "      <td>16682.65</td>\n",
       "      <td>265793403</td>\n",
       "      <td>16677.60</td>\n",
       "      <td>1.062203</td>\n",
       "      <td>4</td>\n",
       "      <td>-37485.0</td>\n",
       "    </tr>\n",
       "  </tbody>\n",
       "</table>\n",
       "<p>795 rows × 9 columns</p>\n",
       "</div>"
      ],
      "text/plain": [
       "         Open      High       Low     Close     Volume       PDC      gap%  \\\n",
       "0    10780.25  10785.75  10620.40  10724.40  521876968      0.00  0.000000   \n",
       "1    10738.65  10759.90  10628.40  10640.95  345440240  10724.40  0.132875   \n",
       "2    10636.70  10722.85  10585.65  10604.35  291507060  10640.95 -0.039940   \n",
       "3    10655.45  10752.70  10646.40  10735.45  289195306  10604.35  0.481878   \n",
       "4    10744.10  10808.85  10721.50  10789.85  279584955  10735.45  0.080574   \n",
       "..        ...       ...       ...       ...        ...       ...       ...   \n",
       "790  17189.50  17322.50  17071.05  17245.05  312914417  17038.40  0.886820   \n",
       "791  17329.25  17377.65  17053.25  17102.55  336243642  17245.05  0.488256   \n",
       "792  16924.45  17092.25  16917.25  17069.10  278155513  17102.55 -1.041365   \n",
       "793  17096.60  17132.85  16623.95  16677.60  310632799  17069.10  0.161110   \n",
       "794  16854.75  16945.70  16651.85  16682.65  265793403  16677.60  1.062203   \n",
       "\n",
       "     Day   Profit  \n",
       "0      0      0.0  \n",
       "1      1  26810.0  \n",
       "2      5   7990.0  \n",
       "3      6 -28320.0  \n",
       "4      4  52385.0  \n",
       "..   ...      ...  \n",
       "790    4 -20875.0  \n",
       "791    0      0.0  \n",
       "792    1 -13385.0  \n",
       "793    6  74905.0  \n",
       "794    4 -37485.0  \n",
       "\n",
       "[795 rows x 9 columns]"
      ]
     },
     "execution_count": 8,
     "metadata": {},
     "output_type": "execute_result"
    }
   ],
   "source": [
    "df"
   ]
  },
  {
   "cell_type": "code",
   "execution_count": 9,
   "metadata": {},
   "outputs": [
    {
     "name": "stdout",
     "output_type": "stream",
     "text": [
      "Open      4.455750e+03\n",
      "High      4.461725e+03\n",
      "Low       4.452525e+03\n",
      "Close     4.471750e+03\n",
      "Volume    2.965249e+08\n",
      "PDC       4.471050e+03\n",
      "gap%      5.696719e-01\n",
      "Day       4.000000e+00\n",
      "Profit    3.159500e+04\n",
      "dtype: float64\n"
     ]
    }
   ],
   "source": [
    "Q1 = df.quantile(0.25)\n",
    "Q3 = df.quantile(0.75)\n",
    "IQR = Q3 - Q1\n",
    "print(IQR)"
   ]
  },
  {
   "cell_type": "code",
   "execution_count": 10,
   "metadata": {},
   "outputs": [
    {
     "data": {
      "text/html": [
       "<div>\n",
       "<style scoped>\n",
       "    .dataframe tbody tr th:only-of-type {\n",
       "        vertical-align: middle;\n",
       "    }\n",
       "\n",
       "    .dataframe tbody tr th {\n",
       "        vertical-align: top;\n",
       "    }\n",
       "\n",
       "    .dataframe thead th {\n",
       "        text-align: right;\n",
       "    }\n",
       "</style>\n",
       "<table border=\"1\" class=\"dataframe\">\n",
       "  <thead>\n",
       "    <tr style=\"text-align: right;\">\n",
       "      <th></th>\n",
       "      <th>Open</th>\n",
       "      <th>High</th>\n",
       "      <th>Low</th>\n",
       "      <th>Close</th>\n",
       "      <th>Volume</th>\n",
       "      <th>PDC</th>\n",
       "      <th>gap%</th>\n",
       "      <th>Day</th>\n",
       "      <th>Profit</th>\n",
       "    </tr>\n",
       "  </thead>\n",
       "  <tbody>\n",
       "    <tr>\n",
       "      <th>count</th>\n",
       "      <td>795.0</td>\n",
       "      <td>795.0</td>\n",
       "      <td>795.0</td>\n",
       "      <td>795.0</td>\n",
       "      <td>7.950000e+02</td>\n",
       "      <td>795.0</td>\n",
       "      <td>795.0</td>\n",
       "      <td>795.0</td>\n",
       "      <td>795.0</td>\n",
       "    </tr>\n",
       "    <tr>\n",
       "      <th>mean</th>\n",
       "      <td>13429.0</td>\n",
       "      <td>13503.0</td>\n",
       "      <td>13325.0</td>\n",
       "      <td>13416.0</td>\n",
       "      <td>5.088505e+08</td>\n",
       "      <td>13396.0</td>\n",
       "      <td>0.0</td>\n",
       "      <td>3.0</td>\n",
       "      <td>15646.0</td>\n",
       "    </tr>\n",
       "    <tr>\n",
       "      <th>std</th>\n",
       "      <td>2737.0</td>\n",
       "      <td>2737.0</td>\n",
       "      <td>2730.0</td>\n",
       "      <td>2736.0</td>\n",
       "      <td>2.183694e+08</td>\n",
       "      <td>2775.0</td>\n",
       "      <td>1.0</td>\n",
       "      <td>2.0</td>\n",
       "      <td>35568.0</td>\n",
       "    </tr>\n",
       "    <tr>\n",
       "      <th>min</th>\n",
       "      <td>7735.0</td>\n",
       "      <td>8037.0</td>\n",
       "      <td>7511.0</td>\n",
       "      <td>7610.0</td>\n",
       "      <td>4.852086e+07</td>\n",
       "      <td>0.0</td>\n",
       "      <td>-9.0</td>\n",
       "      <td>0.0</td>\n",
       "      <td>-104715.0</td>\n",
       "    </tr>\n",
       "    <tr>\n",
       "      <th>25%</th>\n",
       "      <td>11374.0</td>\n",
       "      <td>11419.0</td>\n",
       "      <td>11295.0</td>\n",
       "      <td>11345.0</td>\n",
       "      <td>3.352225e+08</td>\n",
       "      <td>11342.0</td>\n",
       "      <td>-0.0</td>\n",
       "      <td>1.0</td>\n",
       "      <td>0.0</td>\n",
       "    </tr>\n",
       "    <tr>\n",
       "      <th>50%</th>\n",
       "      <td>12151.0</td>\n",
       "      <td>12183.0</td>\n",
       "      <td>12094.0</td>\n",
       "      <td>12127.0</td>\n",
       "      <td>4.924753e+08</td>\n",
       "      <td>12126.0</td>\n",
       "      <td>0.0</td>\n",
       "      <td>4.0</td>\n",
       "      <td>6580.0</td>\n",
       "    </tr>\n",
       "    <tr>\n",
       "      <th>75%</th>\n",
       "      <td>15829.0</td>\n",
       "      <td>15881.0</td>\n",
       "      <td>15747.0</td>\n",
       "      <td>15816.0</td>\n",
       "      <td>6.317474e+08</td>\n",
       "      <td>15814.0</td>\n",
       "      <td>0.0</td>\n",
       "      <td>5.0</td>\n",
       "      <td>31595.0</td>\n",
       "    </tr>\n",
       "    <tr>\n",
       "      <th>max</th>\n",
       "      <td>18602.0</td>\n",
       "      <td>18604.0</td>\n",
       "      <td>18445.0</td>\n",
       "      <td>18477.0</td>\n",
       "      <td>1.811564e+09</td>\n",
       "      <td>18477.0</td>\n",
       "      <td>4.0</td>\n",
       "      <td>6.0</td>\n",
       "      <td>328970.0</td>\n",
       "    </tr>\n",
       "  </tbody>\n",
       "</table>\n",
       "</div>"
      ],
      "text/plain": [
       "          Open     High      Low    Close        Volume      PDC   gap%  \\\n",
       "count    795.0    795.0    795.0    795.0  7.950000e+02    795.0  795.0   \n",
       "mean   13429.0  13503.0  13325.0  13416.0  5.088505e+08  13396.0    0.0   \n",
       "std     2737.0   2737.0   2730.0   2736.0  2.183694e+08   2775.0    1.0   \n",
       "min     7735.0   8037.0   7511.0   7610.0  4.852086e+07      0.0   -9.0   \n",
       "25%    11374.0  11419.0  11295.0  11345.0  3.352225e+08  11342.0   -0.0   \n",
       "50%    12151.0  12183.0  12094.0  12127.0  4.924753e+08  12126.0    0.0   \n",
       "75%    15829.0  15881.0  15747.0  15816.0  6.317474e+08  15814.0    0.0   \n",
       "max    18602.0  18604.0  18445.0  18477.0  1.811564e+09  18477.0    4.0   \n",
       "\n",
       "         Day    Profit  \n",
       "count  795.0     795.0  \n",
       "mean     3.0   15646.0  \n",
       "std      2.0   35568.0  \n",
       "min      0.0 -104715.0  \n",
       "25%      1.0       0.0  \n",
       "50%      4.0    6580.0  \n",
       "75%      5.0   31595.0  \n",
       "max      6.0  328970.0  "
      ]
     },
     "execution_count": 10,
     "metadata": {},
     "output_type": "execute_result"
    }
   ],
   "source": [
    "df.describe(include='all').round(0)"
   ]
  },
  {
   "cell_type": "code",
   "execution_count": 19,
   "metadata": {},
   "outputs": [
    {
     "name": "stdout",
     "output_type": "stream",
     "text": [
      "      Open   High    Low  Close  Volume    PDC   gap%    Day  Profit\n",
      "0    False  False  False  False   False   True  False  False   False\n",
      "1    False  False  False  False   False  False  False  False   False\n",
      "2    False  False  False  False   False  False  False  False   False\n",
      "3    False  False  False  False   False  False  False  False   False\n",
      "4    False  False  False  False   False  False  False  False   False\n",
      "..     ...    ...    ...    ...     ...    ...    ...    ...     ...\n",
      "790  False  False  False  False   False  False  False  False   False\n",
      "791  False  False  False  False   False  False  False  False   False\n",
      "792  False  False  False  False   False  False   True  False   False\n",
      "793  False  False  False  False   False  False  False  False   False\n",
      "794  False  False  False  False   False  False  False  False   False\n",
      "\n",
      "[795 rows x 9 columns]\n"
     ]
    }
   ],
   "source": [
    "print((df < (Q1 - 1.5 * IQR)) |(df > (Q3 + 1.5 * IQR)))"
   ]
  },
  {
   "cell_type": "code",
   "execution_count": 20,
   "metadata": {},
   "outputs": [
    {
     "data": {
      "image/png": "[encoded data removed]",
      "text/plain": [
       "<Figure size 432x288 with 1 Axes>"
      ]
     },
     "metadata": {
      "needs_background": "light"
     },
     "output_type": "display_data"
    },
    {
     "data": {
      "image/png": "[encoded data removed]",
      "text/plain": [
       "<Figure size 432x288 with 1 Axes>"
      ]
     },
     "metadata": {
      "needs_background": "light"
     },
     "output_type": "display_data"
    },
    {
     "data": {
      "image/png": "[encoded data removed]",
      "text/plain": [
       "<Figure size 432x288 with 1 Axes>"
      ]
     },
     "metadata": {
      "needs_background": "light"
     },
     "output_type": "display_data"
    },
    {
     "data": {
      "image/png": "[encoded data removed]",
      "text/plain": [
       "<Figure size 432x288 with 1 Axes>"
      ]
     },
     "metadata": {
      "needs_background": "light"
     },
     "output_type": "display_data"
    },
    {
     "data": {
      "image/png": "[encoded data removed]",
      "text/plain": [
       "<Figure size 432x288 with 1 Axes>"
      ]
     },
     "metadata": {
      "needs_background": "light"
     },
     "output_type": "display_data"
    },
    {
     "data": {
      "image/png": "[encoded data removed]",
      "text/plain": [
       "<Figure size 432x288 with 1 Axes>"
      ]
     },
     "metadata": {
      "needs_background": "light"
     },
     "output_type": "display_data"
    },
    {
     "data": {
      "image/png": "[encoded data removed]",
      "text/plain": [
       "<Figure size 432x288 with 1 Axes>"
      ]
     },
     "metadata": {
      "needs_background": "light"
     },
     "output_type": "display_data"
    },
    {
     "data": {
      "image/png": "[encoded data removed]",
      "text/plain": [
       "<Figure size 432x288 with 1 Axes>"
      ]
     },
     "metadata": {
      "needs_background": "light"
     },
     "output_type": "display_data"
    },
    {
     "data": {
      "image/png": "[encoded data removed]",
      "text/plain": [
       "<Figure size 432x288 with 1 Axes>"
      ]
     },
     "metadata": {
      "needs_background": "light"
     },
     "output_type": "display_data"
    }
   ],
   "source": [
    "for i in df:\n",
    "    sns.boxplot(df[i])\n",
    "    plt.show()"
   ]
  },
  {
   "cell_type": "code",
   "execution_count": 21,
   "metadata": {},
   "outputs": [],
   "source": [
    "x=df.drop(['Profit'],axis=1)\n",
    "y=df['Profit']\n"
   ]
  },
  {
   "cell_type": "code",
   "execution_count": 22,
   "metadata": {},
   "outputs": [
    {
     "data": {
      "text/plain": [
       "0        0.0\n",
       "1    26810.0\n",
       "2     7990.0\n",
       "3   -28320.0\n",
       "4    52385.0\n",
       "Name: Profit, dtype: float64"
      ]
     },
     "execution_count": 22,
     "metadata": {},
     "output_type": "execute_result"
    }
   ],
   "source": [
    "y.head()"
   ]
  },
  {
   "cell_type": "markdown",
   "metadata": {},
   "source": [
    "Converting days into numerical format\n"
   ]
  },
  {
   "cell_type": "code",
   "execution_count": 23,
   "metadata": {},
   "outputs": [],
   "source": [
    "from sklearn.model_selection import train_test_split\n",
    "x_train,x_test,y_train,y_test=train_test_split(x,y,test_size=0.25,random_state=400)"
   ]
  },
  {
   "cell_type": "code",
   "execution_count": 24,
   "metadata": {},
   "outputs": [
    {
     "data": {
      "text/plain": [
       "((596, 8), (199, 8))"
      ]
     },
     "execution_count": 24,
     "metadata": {},
     "output_type": "execute_result"
    }
   ],
   "source": [
    "(x_train.shape),(x_test.shape)"
   ]
  },
  {
   "cell_type": "code",
   "execution_count": 25,
   "metadata": {},
   "outputs": [
    {
     "data": {
      "text/plain": [
       "LinearRegression()"
      ]
     },
     "execution_count": 25,
     "metadata": {},
     "output_type": "execute_result"
    }
   ],
   "source": [
    "from sklearn.linear_model import LinearRegression\n",
    "model = LinearRegression()\n",
    "model.fit(x_train,y_train)"
   ]
  },
  {
   "cell_type": "code",
   "execution_count": 26,
   "metadata": {},
   "outputs": [],
   "source": [
    "from sklearn.metrics import r2_score,accuracy_score"
   ]
  },
  {
   "cell_type": "code",
   "execution_count": 27,
   "metadata": {},
   "outputs": [],
   "source": [
    "from math import sqrt"
   ]
  },
  {
   "cell_type": "code",
   "execution_count": 28,
   "metadata": {},
   "outputs": [
    {
     "data": {
      "text/plain": [
       "-0.09116714334153264"
      ]
     },
     "execution_count": 28,
     "metadata": {},
     "output_type": "execute_result"
    }
   ],
   "source": [
    "r2_score(y_test,model.predict(x_test))"
   ]
  },
  {
   "cell_type": "code",
   "execution_count": 29,
   "metadata": {},
   "outputs": [
    {
     "data": {
      "text/plain": [
       "0.14597912505234045"
      ]
     },
     "execution_count": 29,
     "metadata": {},
     "output_type": "execute_result"
    }
   ],
   "source": [
    "r2_score(y_train,model.predict(x_train))"
   ]
  },
  {
   "cell_type": "code",
   "execution_count": 30,
   "metadata": {},
   "outputs": [],
   "source": [
    "from xgboost import XGBRegressor"
   ]
  },
  {
   "cell_type": "code",
   "execution_count": 31,
   "metadata": {},
   "outputs": [],
   "source": [
    "model = XGBRegressor()"
   ]
  },
  {
   "cell_type": "code",
   "execution_count": 32,
   "metadata": {},
   "outputs": [
    {
     "data": {
      "text/plain": [
       "XGBRegressor(base_score=0.5, booster='gbtree', colsample_bylevel=1,\n",
       "             colsample_bynode=1, colsample_bytree=1, enable_categorical=False,\n",
       "             gamma=0, gpu_id=-1, importance_type=None,\n",
       "             interaction_constraints='', learning_rate=0.300000012,\n",
       "             max_delta_step=0, max_depth=6, min_child_weight=1, missing=nan,\n",
       "             monotone_constraints='()', n_estimators=100, n_jobs=4,\n",
       "             num_parallel_tree=1, predictor='auto', random_state=0, reg_alpha=0,\n",
       "             reg_lambda=1, scale_pos_weight=1, subsample=1, tree_method='exact',\n",
       "             validate_parameters=1, verbosity=None)"
      ]
     },
     "execution_count": 32,
     "metadata": {},
     "output_type": "execute_result"
    }
   ],
   "source": [
    "model.fit(x_train,y_train)"
   ]
  },
  {
   "cell_type": "code",
   "execution_count": 33,
   "metadata": {},
   "outputs": [
    {
     "data": {
      "text/plain": [
       "-0.3020012736903981"
      ]
     },
     "execution_count": 33,
     "metadata": {},
     "output_type": "execute_result"
    }
   ],
   "source": [
    "r2_score(y_test,model.predict(x_test))"
   ]
  },
  {
   "cell_type": "code",
   "execution_count": 34,
   "metadata": {},
   "outputs": [
    {
     "data": {
      "text/plain": [
       "0.9979065250047748"
      ]
     },
     "execution_count": 34,
     "metadata": {},
     "output_type": "execute_result"
    }
   ],
   "source": [
    "r2_score(y_train,model.predict(x_train))"
   ]
  },
  {
   "cell_type": "code",
   "execution_count": 35,
   "metadata": {},
   "outputs": [
    {
     "data": {
      "text/plain": [
       "<AxesSubplot:xlabel='Profit'>"
      ]
     },
     "execution_count": 35,
     "metadata": {},
     "output_type": "execute_result"
    },
    {
     "data": {
      "image/png": "[encoded data removed]",
      "text/plain": [
       "<Figure size 432x288 with 1 Axes>"
      ]
     },
     "metadata": {
      "needs_background": "light"
     },
     "output_type": "display_data"
    }
   ],
   "source": [
    "sns.regplot(y_train,model.predict(x_train))"
   ]
  },
  {
   "cell_type": "code",
   "execution_count": 36,
   "metadata": {},
   "outputs": [
    {
     "data": {
      "text/plain": [
       "<AxesSubplot:xlabel='Profit'>"
      ]
     },
     "execution_count": 36,
     "metadata": {},
     "output_type": "execute_result"
    },
    {
     "data": {
      "image/png": "[encoded data removed]",
      "text/plain": [
       "<Figure size 432x288 with 1 Axes>"
      ]
     },
     "metadata": {
      "needs_background": "light"
     },
     "output_type": "display_data"
    }
   ],
   "source": [
    "sns.regplot(y_test,model.predict(x_test))  "
   ]
  },
  {
   "cell_type": "code",
   "execution_count": null,
   "metadata": {},
   "outputs": [],
   "source": [
    "what is the timing for next project\n",
    "ans = 10 pm\n"
   ]
  },
  {
   "cell_type": "code",
   "execution_count": null,
   "metadata": {},
   "outputs": [],
   "source": []
  }
 ],
 "metadata": {
  "kernelspec": {
   "display_name": "Python 3",
   "language": "python",
   "name": "python3"
  },
  "language_info": {
   "codemirror_mode": {
    "name": "ipython",
    "version": 3
   },
   "file_extension": ".py",
   "mimetype": "text/x-python",
   "name": "python",
   "nbconvert_exporter": "python",
   "pygments_lexer": "ipython3",
   "version": "3.8.5"
  }
 },
 "nbformat": 4,
 "nbformat_minor": 4
}
